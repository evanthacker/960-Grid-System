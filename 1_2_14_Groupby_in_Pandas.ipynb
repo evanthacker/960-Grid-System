{
  "cells": [
    {
      "cell_type": "markdown",
      "metadata": {
        "id": "view-in-github",
        "colab_type": "text"
      },
      "source": [
        "<a href=\"https://colab.research.google.com/github/evanthacker/960-Grid-System/blob/master/1_2_14_Groupby_in_Pandas.ipynb\" target=\"_parent\"><img src=\"https://colab.research.google.com/assets/colab-badge.svg\" alt=\"Open In Colab\"/></a>"
      ]
    },
    {
      "cell_type": "markdown",
      "id": "ad6d5086",
      "metadata": {
        "id": "ad6d5086"
      },
      "source": [
        "### 7. Groupby in Pandas"
      ]
    },
    {
      "cell_type": "code",
      "execution_count": null,
      "id": "5bed4542",
      "metadata": {
        "id": "5bed4542",
        "outputId": "219029e1-ed07-4537-ff53-1e5207d8dc9f"
      },
      "outputs": [
        {
          "data": {
            "text/plain": [
              "'1.4.4'"
            ]
          },
          "execution_count": 6,
          "metadata": {},
          "output_type": "execute_result"
        }
      ],
      "source": [
        "import pandas as pd\n",
        "pd.__version__"
      ]
    },
    {
      "cell_type": "code",
      "execution_count": null,
      "id": "b9ba0da6",
      "metadata": {
        "id": "b9ba0da6",
        "outputId": "f0c46ba2-72c0-46ef-9710-119864f8498f"
      },
      "outputs": [
        {
          "name": "stdout",
          "output_type": "stream",
          "text": [
            "   Product_ID Food_Product           Brand  Sales  Profit\n",
            "0         101        Cakes  Baskin Robbins   5000   55000\n",
            "1         102     Biscuits     Blue Riband   8000   67000\n",
            "2         103        Fruit           Peach   7600   89000\n",
            "3         104    Beverages        Horlicks   5500   78000\n",
            "4         105        Cakes     Mars Muffin   6500   55000\n",
            "5         106    Beverages         Mirinda   9000   90000\n"
          ]
        }
      ],
      "source": [
        "# Create a data frame\n",
        "my_df1=pd.DataFrame({\n",
        "    'Product_ID':[101,102,103,104,105,106],\n",
        "    'Food_Product':['Cakes','Biscuits','Fruit','Beverages','Cakes','Beverages'],\n",
        "    'Brand':['Baskin Robbins','Blue Riband','Peach','Horlicks','Mars Muffin','Mirinda'],\n",
        "    'Sales':[5000, 8000, 7600, 5500, 6500, 9000],\n",
        "    'Profit': [55000, 67000, 89000, 78000, 55000, 90000]\n",
        "})\n",
        "print(my_df1)"
      ]
    },
    {
      "cell_type": "markdown",
      "id": "9a155054",
      "metadata": {
        "id": "9a155054"
      },
      "source": [
        "#### Number of Unique Column Values Per Group"
      ]
    },
    {
      "cell_type": "code",
      "execution_count": null,
      "id": "da499daa",
      "metadata": {
        "id": "da499daa",
        "outputId": "9297c3f0-a3ee-416f-f82a-08feaad2ef38"
      },
      "outputs": [
        {
          "data": {
            "text/html": [
              "<div>\n",
              "<style scoped>\n",
              "    .dataframe tbody tr th:only-of-type {\n",
              "        vertical-align: middle;\n",
              "    }\n",
              "\n",
              "    .dataframe tbody tr th {\n",
              "        vertical-align: top;\n",
              "    }\n",
              "\n",
              "    .dataframe thead th {\n",
              "        text-align: right;\n",
              "    }\n",
              "</style>\n",
              "<table border=\"1\" class=\"dataframe\">\n",
              "  <thead>\n",
              "    <tr style=\"text-align: right;\">\n",
              "      <th></th>\n",
              "      <th>Sales</th>\n",
              "    </tr>\n",
              "    <tr>\n",
              "      <th>Food_Product</th>\n",
              "      <th></th>\n",
              "    </tr>\n",
              "  </thead>\n",
              "  <tbody>\n",
              "    <tr>\n",
              "      <th>Beverages</th>\n",
              "      <td>2</td>\n",
              "    </tr>\n",
              "    <tr>\n",
              "      <th>Biscuits</th>\n",
              "      <td>1</td>\n",
              "    </tr>\n",
              "    <tr>\n",
              "      <th>Cakes</th>\n",
              "      <td>2</td>\n",
              "    </tr>\n",
              "    <tr>\n",
              "      <th>Fruit</th>\n",
              "      <td>1</td>\n",
              "    </tr>\n",
              "  </tbody>\n",
              "</table>\n",
              "</div>"
            ],
            "text/plain": [
              "              Sales\n",
              "Food_Product       \n",
              "Beverages         2\n",
              "Biscuits          1\n",
              "Cakes             2\n",
              "Fruit             1"
            ]
          },
          "execution_count": 9,
          "metadata": {},
          "output_type": "execute_result"
        }
      ],
      "source": [
        "my_df1.groupby(\"Food_Product\")[\"Sales\"].nunique().to_frame()"
      ]
    },
    {
      "cell_type": "markdown",
      "id": "4a6acf24",
      "metadata": {
        "id": "4a6acf24"
      },
      "source": [
        "### Sort Groupby Results "
      ]
    },
    {
      "cell_type": "markdown",
      "id": "a741d2cc",
      "metadata": {
        "id": "a741d2cc"
      },
      "source": [
        "Turn the groupby object into a regular dataframe by calling .to_frame().reset_index()"
      ]
    },
    {
      "cell_type": "code",
      "execution_count": null,
      "id": "ed844567",
      "metadata": {
        "id": "ed844567",
        "outputId": "4d0cc9ec-25e3-4cfb-be70-7995d81982ce"
      },
      "outputs": [
        {
          "data": {
            "text/html": [
              "<div>\n",
              "<style scoped>\n",
              "    .dataframe tbody tr th:only-of-type {\n",
              "        vertical-align: middle;\n",
              "    }\n",
              "\n",
              "    .dataframe tbody tr th {\n",
              "        vertical-align: top;\n",
              "    }\n",
              "\n",
              "    .dataframe thead th {\n",
              "        text-align: right;\n",
              "    }\n",
              "</style>\n",
              "<table border=\"1\" class=\"dataframe\">\n",
              "  <thead>\n",
              "    <tr style=\"text-align: right;\">\n",
              "      <th></th>\n",
              "      <th>Food_Product</th>\n",
              "      <th>Sales</th>\n",
              "    </tr>\n",
              "  </thead>\n",
              "  <tbody>\n",
              "    <tr>\n",
              "      <th>0</th>\n",
              "      <td>Beverages</td>\n",
              "      <td>14500</td>\n",
              "    </tr>\n",
              "    <tr>\n",
              "      <th>1</th>\n",
              "      <td>Biscuits</td>\n",
              "      <td>8000</td>\n",
              "    </tr>\n",
              "    <tr>\n",
              "      <th>2</th>\n",
              "      <td>Cakes</td>\n",
              "      <td>11500</td>\n",
              "    </tr>\n",
              "    <tr>\n",
              "      <th>3</th>\n",
              "      <td>Fruit</td>\n",
              "      <td>7600</td>\n",
              "    </tr>\n",
              "  </tbody>\n",
              "</table>\n",
              "</div>"
            ],
            "text/plain": [
              "  Food_Product  Sales\n",
              "0    Beverages  14500\n",
              "1     Biscuits   8000\n",
              "2        Cakes  11500\n",
              "3        Fruit   7600"
            ]
          },
          "execution_count": 12,
          "metadata": {},
          "output_type": "execute_result"
        }
      ],
      "source": [
        "my_df1.groupby('Food_Product')['Sales'].sum().to_frame().reset_index()"
      ]
    },
    {
      "cell_type": "code",
      "execution_count": null,
      "id": "149050c9",
      "metadata": {
        "id": "149050c9",
        "outputId": "e883c4c7-910c-4466-df7f-a6766d5be760"
      },
      "outputs": [
        {
          "data": {
            "text/html": [
              "<div>\n",
              "<style scoped>\n",
              "    .dataframe tbody tr th:only-of-type {\n",
              "        vertical-align: middle;\n",
              "    }\n",
              "\n",
              "    .dataframe tbody tr th {\n",
              "        vertical-align: top;\n",
              "    }\n",
              "\n",
              "    .dataframe thead th {\n",
              "        text-align: right;\n",
              "    }\n",
              "</style>\n",
              "<table border=\"1\" class=\"dataframe\">\n",
              "  <thead>\n",
              "    <tr style=\"text-align: right;\">\n",
              "      <th></th>\n",
              "      <th>Food_Product</th>\n",
              "      <th>Sales</th>\n",
              "    </tr>\n",
              "  </thead>\n",
              "  <tbody>\n",
              "    <tr>\n",
              "      <th>3</th>\n",
              "      <td>Fruit</td>\n",
              "      <td>7600</td>\n",
              "    </tr>\n",
              "    <tr>\n",
              "      <th>1</th>\n",
              "      <td>Biscuits</td>\n",
              "      <td>8000</td>\n",
              "    </tr>\n",
              "    <tr>\n",
              "      <th>2</th>\n",
              "      <td>Cakes</td>\n",
              "      <td>11500</td>\n",
              "    </tr>\n",
              "    <tr>\n",
              "      <th>0</th>\n",
              "      <td>Beverages</td>\n",
              "      <td>14500</td>\n",
              "    </tr>\n",
              "  </tbody>\n",
              "</table>\n",
              "</div>"
            ],
            "text/plain": [
              "  Food_Product  Sales\n",
              "3        Fruit   7600\n",
              "1     Biscuits   8000\n",
              "2        Cakes  11500\n",
              "0    Beverages  14500"
            ]
          },
          "execution_count": 13,
          "metadata": {},
          "output_type": "execute_result"
        }
      ],
      "source": [
        "my_df1.groupby('Food_Product')['Sales'].sum().to_frame().reset_index().sort_values(by='Sales')"
      ]
    },
    {
      "cell_type": "markdown",
      "id": "2adce52c",
      "metadata": {
        "id": "2adce52c"
      },
      "source": [
        "### Heirarchical Indices Created by Groupby"
      ]
    },
    {
      "cell_type": "code",
      "execution_count": null,
      "id": "952a97d9",
      "metadata": {
        "id": "952a97d9",
        "outputId": "a5ef34aa-d8ab-4c39-e293-911af7f02d44"
      },
      "outputs": [
        {
          "data": {
            "text/html": [
              "<div>\n",
              "<style scoped>\n",
              "    .dataframe tbody tr th:only-of-type {\n",
              "        vertical-align: middle;\n",
              "    }\n",
              "\n",
              "    .dataframe tbody tr th {\n",
              "        vertical-align: top;\n",
              "    }\n",
              "\n",
              "    .dataframe thead tr th {\n",
              "        text-align: left;\n",
              "    }\n",
              "\n",
              "    .dataframe thead tr:last-of-type th {\n",
              "        text-align: right;\n",
              "    }\n",
              "</style>\n",
              "<table border=\"1\" class=\"dataframe\">\n",
              "  <thead>\n",
              "    <tr>\n",
              "      <th></th>\n",
              "      <th colspan=\"4\" halign=\"left\">Sales</th>\n",
              "    </tr>\n",
              "    <tr>\n",
              "      <th></th>\n",
              "      <th>min</th>\n",
              "      <th>max</th>\n",
              "      <th>mean</th>\n",
              "      <th>sum</th>\n",
              "    </tr>\n",
              "    <tr>\n",
              "      <th>Food_Product</th>\n",
              "      <th></th>\n",
              "      <th></th>\n",
              "      <th></th>\n",
              "      <th></th>\n",
              "    </tr>\n",
              "  </thead>\n",
              "  <tbody>\n",
              "    <tr>\n",
              "      <th>Beverages</th>\n",
              "      <td>5500</td>\n",
              "      <td>9000</td>\n",
              "      <td>7250.0</td>\n",
              "      <td>14500</td>\n",
              "    </tr>\n",
              "    <tr>\n",
              "      <th>Biscuits</th>\n",
              "      <td>8000</td>\n",
              "      <td>8000</td>\n",
              "      <td>8000.0</td>\n",
              "      <td>8000</td>\n",
              "    </tr>\n",
              "    <tr>\n",
              "      <th>Cakes</th>\n",
              "      <td>5000</td>\n",
              "      <td>6500</td>\n",
              "      <td>5750.0</td>\n",
              "      <td>11500</td>\n",
              "    </tr>\n",
              "    <tr>\n",
              "      <th>Fruit</th>\n",
              "      <td>7600</td>\n",
              "      <td>7600</td>\n",
              "      <td>7600.0</td>\n",
              "      <td>7600</td>\n",
              "    </tr>\n",
              "  </tbody>\n",
              "</table>\n",
              "</div>"
            ],
            "text/plain": [
              "             Sales                     \n",
              "               min   max    mean    sum\n",
              "Food_Product                           \n",
              "Beverages     5500  9000  7250.0  14500\n",
              "Biscuits      8000  8000  8000.0   8000\n",
              "Cakes         5000  6500  5750.0  11500\n",
              "Fruit         7600  7600  7600.0   7600"
            ]
          },
          "execution_count": 15,
          "metadata": {},
          "output_type": "execute_result"
        }
      ],
      "source": [
        "my_df1.groupby('Food_Product').agg({'Sales':['min','max','mean','sum']})"
      ]
    },
    {
      "cell_type": "code",
      "execution_count": null,
      "id": "813d9bf3",
      "metadata": {
        "id": "813d9bf3"
      },
      "outputs": [],
      "source": []
    }
  ],
  "metadata": {
    "kernelspec": {
      "display_name": "Python 3 (ipykernel)",
      "language": "python",
      "name": "python3"
    },
    "language_info": {
      "codemirror_mode": {
        "name": "ipython",
        "version": 3
      },
      "file_extension": ".py",
      "mimetype": "text/x-python",
      "name": "python",
      "nbconvert_exporter": "python",
      "pygments_lexer": "ipython3",
      "version": "3.9.13"
    },
    "colab": {
      "provenance": [],
      "include_colab_link": true
    }
  },
  "nbformat": 4,
  "nbformat_minor": 5
}